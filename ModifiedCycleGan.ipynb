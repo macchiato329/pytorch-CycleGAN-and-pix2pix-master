{
 "cells": [
  {
   "cell_type": "markdown",
   "metadata": {},
   "source": [
    "# Training\n",
    "\n",
    "-   `python train.py --dataroot ./datasets/brain01 --name brain01 --dataset_mode negativesample --model modified_cycle_gan`\n",
    "\n",
    "-   `--dataset_mode` need to be  `negativesample1`\n",
    "-   `--gan_mode` can be changed, default is 'lsgan',it control the type of GAN objective. [vanilla| lsgan | wgangp]. vanilla GAN loss is the cross-entropy objective used in the original GAN paper.'"
   ]
  },
  {
   "cell_type": "code",
   "execution_count": null,
   "metadata": {},
   "outputs": [],
   "source": [
    "!python train.py --dataroot ./datasets/brain01 --name brain01 --dataset_mode negativesample --model modified_cycle_gan --display_id -1"
   ]
  }
 ],
 "metadata": {
  "language_info": {
   "name": "python"
  }
 },
 "nbformat": 4,
 "nbformat_minor": 2
}
